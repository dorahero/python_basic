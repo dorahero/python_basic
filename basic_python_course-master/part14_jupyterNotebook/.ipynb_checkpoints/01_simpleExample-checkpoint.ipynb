{
 "cells": [
  {
   "cell_type": "markdown",
   "metadata": {},
   "source": [
    "### Transform the table to a json type\n",
    "There is a file Staff.txt:\n",
    "\n",
    "| ID  |  Name | DeptId| Age | Gender | Salary |\n",
    "| --- |  ---  |  ---  | --- |  ---   | ------ |\n",
    "| 001 | Jay   | 001   | 50  |   M    | 56000  |\n",
    "| 002 | Jenny | 001   | 30  |   F    | 47000  |\n",
    "| 003 | Rick  | 002   | 45  |   M    | 50000  |\n",
    "| 004 | David | 003   | 47  |   M    | 45000  |\n",
    "| 005 | Jake  | 002   | 32  |   M    | 55000  |\n",
    "| 006 | Abby  | 001   | 25  |   F    | 40000  |\n",
    "| 007 | Trump | 003   | 80  |   M    | 90000  |\n",
    "| 008 | Eric  | 001   | 26  |   M    | 85000  |\n",
    "\n",
    "Tyr to transform it to json type<br>\n",
    "Just like this:\n",
    "```json\n",
    "{\n",
    "    '001': {\n",
    "        'ID': '001',\n",
    "        'Name': 'Jay',\n",
    "        'DeptId': '001',\n",
    "        'Age': '50',\n",
    "        'Gender': 'M',\n",
    "        'Salary': '56000'\n",
    "    },\n",
    "    '002': {\n",
    "        'ID': '002',\n",
    "        'Name': 'Jenny',\n",
    "        'DeptId': '001',\n",
    "        'Age': '30',\n",
    "        'Gender': 'F',\n",
    "        'Salary': '47000'\n",
    "    },\n",
    "    '003': {\n",
    "        'ID': '003',\n",
    "        'Name': 'Rick',\n",
    "        'DeptId': '002',\n",
    "        'Age': '45',\n",
    "        'Gender': 'M',\n",
    "        'Salary': '50000'\n",
    "    },\n",
    "  \n",
    "            .\n",
    "            .\n",
    "            .\n",
    "  \n",
    "}\n",
    "```"
   ]
  },
  {
   "cell_type": "code",
   "execution_count": 1,
   "metadata": {},
   "outputs": [
    {
     "data": {
      "text/plain": [
       "['| ID  |  Name | DeptId| Age | Gender | Salary |\\n',\n",
       " '| --- |  ---  |  ---  | --- |  ---   | ------ |\\n',\n",
       " '| 001 | Jay   | 001   | 50  |   M    | 56000  |\\n',\n",
       " '| 002 | Jenny | 001   | 30  |   F    | 47000  |\\n',\n",
       " '| 003 | Rick  | 002   | 45  |   M    | 50000  |\\n',\n",
       " '| 004 | David | 003   | 47  |   M    | 45000  |\\n',\n",
       " '| 005 | Jake  | 002   | 32  |   M    | 55000  |\\n',\n",
       " '| 006 | Abby  | 001   | 25  |   F    | 40000  |\\n',\n",
       " '| 007 | Trump | 003   | 80  |   M    | 90000  |\\n',\n",
       " '| 008 | Eric  | 001   | 26  |   M    | 85000  |']"
      ]
     },
     "execution_count": 1,
     "metadata": {},
     "output_type": "execute_result"
    }
   ],
   "source": [
    "# Open the txt file\n",
    "filename = r'Staff.txt'\n",
    "\n",
    "with open(filename, 'r', encoding='utf-8') as f:\n",
    "    table = f.readlines()\n",
    "\n",
    "# Press \"Ctrl + Enter\" or \"Shift + Enter\" to execute this block\n",
    "# to have a look at the \"table string\".\n",
    "table"
   ]
  },
  {
   "cell_type": "code",
   "execution_count": 2,
   "metadata": {},
   "outputs": [
    {
     "data": {
      "text/plain": [
       "['|ID|Name|DeptId|Age|Gender|Salary|',\n",
       " '|---|---|---|---|---|------|',\n",
       " '|001|Jay|001|50|M|56000|',\n",
       " '|002|Jenny|001|30|F|47000|',\n",
       " '|003|Rick|002|45|M|50000|',\n",
       " '|004|David|003|47|M|45000|',\n",
       " '|005|Jake|002|32|M|55000|',\n",
       " '|006|Abby|001|25|F|40000|',\n",
       " '|007|Trump|003|80|M|90000|',\n",
       " '|008|Eric|001|26|M|85000|']"
      ]
     },
     "execution_count": 2,
     "metadata": {},
     "output_type": "execute_result"
    }
   ],
   "source": [
    "# We don't need the \"\\n\" and \"blank, so replace them\"\n",
    "table = [r.replace('\\n', '').replace(' ', '') for r in table]\n",
    "table"
   ]
  },
  {
   "cell_type": "code",
   "execution_count": 3,
   "metadata": {},
   "outputs": [
    {
     "data": {
      "text/plain": [
       "'|ID|Name|DeptId|Age|Gender|Salary|'"
      ]
     },
     "execution_count": 3,
     "metadata": {},
     "output_type": "execute_result"
    }
   ],
   "source": [
    "# To get column, we need only the 0th object in the list\n",
    "table[0]"
   ]
  },
  {
   "cell_type": "code",
   "execution_count": 4,
   "metadata": {},
   "outputs": [
    {
     "data": {
      "text/plain": [
       "['', 'ID', 'Name', 'DeptId', 'Age', 'Gender', 'Salary', '']"
      ]
     },
     "execution_count": 4,
     "metadata": {},
     "output_type": "execute_result"
    }
   ],
   "source": [
    "# Transform the table[0] string to a column list\n",
    "# But there are two blanks except for the column names, and we don't need them\n",
    "column = table[0].split('|')\n",
    "column"
   ]
  },
  {
   "cell_type": "code",
   "execution_count": 5,
   "metadata": {},
   "outputs": [
    {
     "data": {
      "text/plain": [
       "['ID', 'Name', 'DeptId', 'Age', 'Gender', 'Salary']"
      ]
     },
     "execution_count": 5,
     "metadata": {},
     "output_type": "execute_result"
    }
   ],
   "source": [
    "# Extract the column part\n",
    "# Now we got column list\n",
    "column = column[1:-1]\n",
    "column"
   ]
  },
  {
   "cell_type": "code",
   "execution_count": 6,
   "metadata": {},
   "outputs": [
    {
     "data": {
      "text/plain": [
       "['|001|Jay|001|50|M|56000|',\n",
       " '|002|Jenny|001|30|F|47000|',\n",
       " '|003|Rick|002|45|M|50000|',\n",
       " '|004|David|003|47|M|45000|',\n",
       " '|005|Jake|002|32|M|55000|',\n",
       " '|006|Abby|001|25|F|40000|',\n",
       " '|007|Trump|003|80|M|90000|',\n",
       " '|008|Eric|001|26|M|85000|']"
      ]
     },
     "execution_count": 6,
     "metadata": {},
     "output_type": "execute_result"
    }
   ],
   "source": [
    "# And then transform the datas part in \"table\"\n",
    "# Extract datas from the index 2 in table\n",
    "table[2:]"
   ]
  },
  {
   "cell_type": "code",
   "execution_count": 7,
   "metadata": {},
   "outputs": [
    {
     "data": {
      "text/plain": [
       "[['001', 'Jay', '001', '50', 'M', '56000'],\n",
       " ['002', 'Jenny', '001', '30', 'F', '47000'],\n",
       " ['003', 'Rick', '002', '45', 'M', '50000'],\n",
       " ['004', 'David', '003', '47', 'M', '45000'],\n",
       " ['005', 'Jake', '002', '32', 'M', '55000'],\n",
       " ['006', 'Abby', '001', '25', 'F', '40000'],\n",
       " ['007', 'Trump', '003', '80', 'M', '90000'],\n",
       " ['008', 'Eric', '001', '26', 'M', '85000']]"
      ]
     },
     "execution_count": 7,
     "metadata": {},
     "output_type": "execute_result"
    }
   ],
   "source": [
    "# Transform the data just like you transform the column\n",
    "data = [r.split('|')[1:-1] for r in table[2:]]\n",
    "data"
   ]
  },
  {
   "cell_type": "code",
   "execution_count": 8,
   "metadata": {
    "scrolled": true
   },
   "outputs": [
    {
     "data": {
      "text/plain": [
       "{'001': {'ID': '001',\n",
       "  'Name': 'Jay',\n",
       "  'DeptId': '001',\n",
       "  'Age': '50',\n",
       "  'Gender': 'M',\n",
       "  'Salary': '56000'},\n",
       " '002': {'ID': '002',\n",
       "  'Name': 'Jenny',\n",
       "  'DeptId': '001',\n",
       "  'Age': '30',\n",
       "  'Gender': 'F',\n",
       "  'Salary': '47000'},\n",
       " '003': {'ID': '003',\n",
       "  'Name': 'Rick',\n",
       "  'DeptId': '002',\n",
       "  'Age': '45',\n",
       "  'Gender': 'M',\n",
       "  'Salary': '50000'},\n",
       " '004': {'ID': '004',\n",
       "  'Name': 'David',\n",
       "  'DeptId': '003',\n",
       "  'Age': '47',\n",
       "  'Gender': 'M',\n",
       "  'Salary': '45000'},\n",
       " '005': {'ID': '005',\n",
       "  'Name': 'Jake',\n",
       "  'DeptId': '002',\n",
       "  'Age': '32',\n",
       "  'Gender': 'M',\n",
       "  'Salary': '55000'},\n",
       " '006': {'ID': '006',\n",
       "  'Name': 'Abby',\n",
       "  'DeptId': '001',\n",
       "  'Age': '25',\n",
       "  'Gender': 'F',\n",
       "  'Salary': '40000'},\n",
       " '007': {'ID': '007',\n",
       "  'Name': 'Trump',\n",
       "  'DeptId': '003',\n",
       "  'Age': '80',\n",
       "  'Gender': 'M',\n",
       "  'Salary': '90000'},\n",
       " '008': {'ID': '008',\n",
       "  'Name': 'Eric',\n",
       "  'DeptId': '001',\n",
       "  'Age': '26',\n",
       "  'Gender': 'M',\n",
       "  'Salary': '85000'}}"
      ]
     },
     "execution_count": 8,
     "metadata": {},
     "output_type": "execute_result"
    }
   ],
   "source": [
    "# Combine column part and data part, and generate a json\n",
    "jsdata = {staff[0]: {column[col]: dt for col, dt in enumerate(staff)} for staff in data}\n",
    "jsdata"
   ]
  },
  {
   "cell_type": "code",
   "execution_count": 9,
   "metadata": {},
   "outputs": [
    {
     "data": {
      "text/plain": [
       "'{\"001\": {\"ID\": \"001\", \"Name\": \"Jay\", \"DeptId\": \"001\", \"Age\": \"50\", \"Gender\": \"M\", \"Salary\": \"56000\"}, \"002\": {\"ID\": \"002\", \"Name\": \"Jenny\", \"DeptId\": \"001\", \"Age\": \"30\", \"Gender\": \"F\", \"Salary\": \"47000\"}, \"003\": {\"ID\": \"003\", \"Name\": \"Rick\", \"DeptId\": \"002\", \"Age\": \"45\", \"Gender\": \"M\", \"Salary\": \"50000\"}, \"004\": {\"ID\": \"004\", \"Name\": \"David\", \"DeptId\": \"003\", \"Age\": \"47\", \"Gender\": \"M\", \"Salary\": \"45000\"}, \"005\": {\"ID\": \"005\", \"Name\": \"Jake\", \"DeptId\": \"002\", \"Age\": \"32\", \"Gender\": \"M\", \"Salary\": \"55000\"}, \"006\": {\"ID\": \"006\", \"Name\": \"Abby\", \"DeptId\": \"001\", \"Age\": \"25\", \"Gender\": \"F\", \"Salary\": \"40000\"}, \"007\": {\"ID\": \"007\", \"Name\": \"Trump\", \"DeptId\": \"003\", \"Age\": \"80\", \"Gender\": \"M\", \"Salary\": \"90000\"}, \"008\": {\"ID\": \"008\", \"Name\": \"Eric\", \"DeptId\": \"001\", \"Age\": \"26\", \"Gender\": \"M\", \"Salary\": \"85000\"}}'"
      ]
     },
     "execution_count": 9,
     "metadata": {},
     "output_type": "execute_result"
    }
   ],
   "source": [
    "# Turn it to a json string\n",
    "import json\n",
    "jsdata_str = json.dumps(jsdata)\n",
    "jsdata_str"
   ]
  },
  {
   "cell_type": "code",
   "execution_count": 10,
   "metadata": {},
   "outputs": [],
   "source": [
    "# Save the json string as a text file\n",
    "with open(r'./Staff.json', 'w', encoding='utf-8') as f:\n",
    "    f.write(jsdata_str)"
   ]
  }
 ],
 "metadata": {
  "kernelspec": {
   "display_name": "Python 3",
   "language": "python",
   "name": "python3"
  },
  "language_info": {
   "codemirror_mode": {
    "name": "ipython",
    "version": 3
   },
   "file_extension": ".py",
   "mimetype": "text/x-python",
   "name": "python",
   "nbconvert_exporter": "python",
   "pygments_lexer": "ipython3",
   "version": "3.7.0"
  }
 },
 "nbformat": 4,
 "nbformat_minor": 4
}
