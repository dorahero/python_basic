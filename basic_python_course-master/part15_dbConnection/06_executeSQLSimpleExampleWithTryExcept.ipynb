{
 "cells": [
  {
   "cell_type": "markdown",
   "metadata": {},
   "source": [
    "### Before coding\n",
    "Execute the following SQL code in your MySQL oy any other RDB.\n",
    "```sql\n",
    "CREATE SCHEMA IF NOT EXISTS `TESTDB` DEFAULT CHARACTER SET utf8mb4 ;\n",
    "\n",
    "CREATE TABLE IF NOT EXISTS `TESTDB`.`Staff` (\n",
    "  `ID` VARCHAR(10) NOT NULL COMMENT 'Employee ID',\n",
    "  `Name` VARCHAR(45) NOT NULL COMMENT 'Employee name',\n",
    "  `DeptId` VARCHAR(10) NOT NULL COMMENT 'Department ID',\n",
    "  `Age` INT NULL,\n",
    "  `Gender` VARCHAR(3) NULL,\n",
    "  `Salary` INT NULL,\n",
    "  `recordDt` DATETIME NOT NULL COMMENT 'The date and time that this information be recorded',\n",
    "  PRIMARY KEY (`ID`))\n",
    "DEFAULT CHARACTER SET = utf8mb4;\n",
    "```\n",
    "\n",
    "### Then we have the column\n",
    "- ID, Name, DeptId, Age, Gender, Salary, recordDt\n",
    "\n",
    "### To do:\n",
    "#### 1. Try to insert the following data first, data can be found in Staff.json\n",
    "#### 2. Raise 10% of the salary and update the data to DB\n",
    "\n",
    "| ID  |  Name | DeptId| Age | Gender | Salary |\n",
    "| --- |  ---  |  ---  | --- |  ---   | ------ |\n",
    "| 001 | Jay   | 001   | 50  |   M    | 56000  |\n",
    "| 002 | Jenny | 001   | 30  |   F    | 47000  |\n",
    "| 003 | Rick  | 002   | 45  |   M    | 50000  |\n",
    "| 004 | David | 003   | 47  |   M    | 45000  |\n",
    "| 005 | Jake  | 002   | 32  |   M    | 55000  |\n",
    "| 006 | Abby  | 001   | 25  |   F    | 40000  |\n",
    "| 007 | Trump | 003   | 80  |   M    | 90000  |\n",
    "| 008 | Eric  | 001   | 26  |   M    | 85000  |\n"
   ]
  },
  {
   "cell_type": "code",
   "execution_count": 1,
   "metadata": {},
   "outputs": [],
   "source": [
    "\n",
    "import pymysql\n",
    "from pymysql.err import IntegrityError, InternalError\n",
    "\n",
    "def insertData(host='localhost', port=3306, user='root', passwd='root', db='TESTDB', charset='utf8mb4'):\n",
    "    effectedRow = -1\n",
    "    \n",
    "    try:\n",
    "        conn = pymysql.connect(host=host, port=port, user=user, passwd=passwd, db=db, charset=charset)\n",
    "    except RuntimeError as e:\n",
    "        print(e)\n",
    "        return -1\n",
    "    except InternalError as e:\n",
    "        print(e)\n",
    "        return -1\n",
    "\n",
    "    cursor = conn.cursor()\n",
    "\n",
    "    sql_insert = \"\"\"\n",
    "    INSERT INTO Staff (ID, Name, DeptId, Age, Gender, Salary, recordDt)\n",
    "    VALUES ('001', 'Jay', '001', '50', 'M', '56000', '2020-04-29 21:04:52');\n",
    "    \"\"\"\n",
    "\n",
    "    try:\n",
    "        effectedRow = cursor.execute(sql_insert)\n",
    "    except IntegrityError as e:\n",
    "        sql_delete = \"\"\"DELETE FROM Staff WHERE ID = '001';\"\"\"\n",
    "        cursor.execute(sql_delete)\n",
    "        effectedRow = cursor.execute(sql_insert)\n",
    "    except:\n",
    "        pass\n",
    "    finally:\n",
    "        conn.commit()\n",
    "        cursor.close()\n",
    "        conn.close()\n",
    "    return effectedRow\n",
    "    "
   ]
  },
  {
   "cell_type": "code",
   "execution_count": 2,
   "metadata": {},
   "outputs": [
    {
     "data": {
      "text/plain": [
       "1"
      ]
     },
     "execution_count": 2,
     "metadata": {},
     "output_type": "execute_result"
    }
   ],
   "source": [
    "insertData()"
   ]
  },
  {
   "cell_type": "code",
   "execution_count": null,
   "metadata": {},
   "outputs": [],
   "source": []
  }
 ],
 "metadata": {
  "kernelspec": {
   "display_name": "Python 3",
   "language": "python",
   "name": "python3"
  },
  "language_info": {
   "codemirror_mode": {
    "name": "ipython",
    "version": 3
   },
   "file_extension": ".py",
   "mimetype": "text/x-python",
   "name": "python",
   "nbconvert_exporter": "python",
   "pygments_lexer": "ipython3",
   "version": "3.7.0"
  }
 },
 "nbformat": 4,
 "nbformat_minor": 4
}
