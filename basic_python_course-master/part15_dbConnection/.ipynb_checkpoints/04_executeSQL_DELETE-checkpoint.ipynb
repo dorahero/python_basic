{
 "cells": [
  {
   "cell_type": "markdown",
   "metadata": {},
   "source": [
    "### Before coding\n",
    "Execute the following SQL code in your MySQL oy any other RDB.\n",
    "```sql\n",
    "CREATE SCHEMA IF NOT EXISTS `TESTDB` DEFAULT CHARACTER SET utf8mb4 ;\n",
    "\n",
    "CREATE TABLE IF NOT EXISTS `TESTDB`.`Staff` (\n",
    "  `ID` VARCHAR(10) NOT NULL COMMENT 'Employee ID',\n",
    "  `Name` VARCHAR(45) NOT NULL COMMENT 'Employee name',\n",
    "  `DeptId` VARCHAR(10) NOT NULL COMMENT 'Department ID',\n",
    "  `Age` INT NULL,\n",
    "  `Gender` VARCHAR(3) NULL,\n",
    "  `Salary` INT NULL,\n",
    "  `recordDt` DATETIME NOT NULL COMMENT 'The date and time that this information be recorded',\n",
    "  PRIMARY KEY (`ID`))\n",
    "DEFAULT CHARACTER SET = utf8mb4;\n",
    "```\n",
    "\n",
    "### Then we have the column\n",
    "- ID, Name, DeptId, Age, Gender, Salary, recordDt\n",
    "\n",
    "### Try to insert the following data\n",
    "\n",
    "| ID  |  Name | DeptId| Age | Gender | Salary |\n",
    "| --- |  ---  |  ---  | --- |  ---   | ------ |\n",
    "| 001 | Jay   | 001   | 50  |   M    | 56000  |\n",
    "| 002 | Jenny | 001   | 30  |   F    | 47000  |\n",
    "| 003 | Rick  | 002   | 45  |   M    | 50000  |\n",
    "| 004 | David | 003   | 47  |   M    | 45000  |\n",
    "| 005 | Jake  | 002   | 32  |   M    | 55000  |\n",
    "| 006 | Abby  | 001   | 25  |   F    | 40000  |\n",
    "| 007 | Trump | 003   | 80  |   M    | 90000  |\n",
    "| 008 | Eric  | 001   | 26  |   M    | 85000  |"
   ]
  },
  {
   "cell_type": "code",
   "execution_count": 1,
   "metadata": {},
   "outputs": [
    {
     "name": "stdout",
     "output_type": "stream",
     "text": [
      "Successfully connected!\n"
     ]
    }
   ],
   "source": [
    "# 連接資料庫\n",
    "import pymysql\n",
    "\n",
    "host = 'localhost'\n",
    "port = 3306\n",
    "user = 'root'\n",
    "passwd = 'root'\n",
    "db = 'TESTDB'\n",
    "charset = 'utf8mb4'\n",
    "\n",
    "conn = pymysql.connect(host=host, port=port, user=user, passwd=passwd, db=db, charset=charset)\n",
    "print('Successfully connected!')\n",
    "\n",
    "cursor = conn.cursor()"
   ]
  },
  {
   "cell_type": "code",
   "execution_count": 2,
   "metadata": {},
   "outputs": [
    {
     "data": {
      "text/plain": [
       "2"
      ]
     },
     "execution_count": 2,
     "metadata": {},
     "output_type": "execute_result"
    }
   ],
   "source": [
    "# 先寫好 SQL 語法\n",
    "sql = \"\"\"\n",
    "UPDATE TESTDB.Staff SET Salary = Salary * 1.1;\n",
    "\"\"\"\n",
    "\n",
    "# 將指令放進 cursor 物件，並執行\n",
    "cursor.execute(sql)"
   ]
  },
  {
   "cell_type": "code",
   "execution_count": 3,
   "metadata": {},
   "outputs": [],
   "source": [
    "# Commit 並關閉連線\n",
    "conn.commit()\n",
    "cursor.close()\n",
    "conn.close()"
   ]
  },
  {
   "cell_type": "code",
   "execution_count": null,
   "metadata": {},
   "outputs": [],
   "source": []
  }
 ],
 "metadata": {
  "kernelspec": {
   "display_name": "Python 3",
   "language": "python",
   "name": "python3"
  },
  "language_info": {
   "codemirror_mode": {
    "name": "ipython",
    "version": 3
   },
   "file_extension": ".py",
   "mimetype": "text/x-python",
   "name": "python",
   "nbconvert_exporter": "python",
   "pygments_lexer": "ipython3",
   "version": "3.7.0"
  }
 },
 "nbformat": 4,
 "nbformat_minor": 4
}
