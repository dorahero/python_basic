{
 "cells": [
  {
   "cell_type": "code",
   "execution_count": 1,
   "metadata": {},
   "outputs": [],
   "source": [
    "from sqlalchemy import create_engine\n",
    "from sqlalchemy.ext.declarative import declarative_base\n",
    "from sqlalchemy import Column, Integer, String, Date\n",
    "from sqlalchemy.orm import sessionmaker"
   ]
  },
  {
   "cell_type": "code",
   "execution_count": 2,
   "metadata": {},
   "outputs": [],
   "source": [
    "engine = create_engine('sqlite:///test.db')\n",
    "Base = declarative_base()\n",
    "\n",
    "class Staff(Base):\n",
    "    __tablename__ = 'Staff'\n",
    "    \n",
    "    ID = Column(String(10), primary_key=True)\n",
    "    Name = Column(String(10), nullable=False)\n",
    "    DeptId = Column(String(10), nullable=False)\n",
    "    Age = Column(Integer, default=None)\n",
    "    Gender = Column(String(3), default=None)\n",
    "    Salary = Column(Integer, default=None)\n",
    "    RecordDt = Column(Date, nullable=False)\n",
    "    \n",
    "    def __repr__(self):\n",
    "        return \"<User(name='%s', record='%s'>\"%(self.Name, self.RecordDt)"
   ]
  },
  {
   "cell_type": "code",
   "execution_count": 3,
   "metadata": {},
   "outputs": [],
   "source": [
    "DBSession = sessionmaker(bind=engine)\n",
    "session = DBSession()"
   ]
  },
  {
   "cell_type": "code",
   "execution_count": 4,
   "metadata": {},
   "outputs": [
    {
     "name": "stdout",
     "output_type": "stream",
     "text": [
      "<User(name='Jay', record='2020-04-24'>\n"
     ]
    }
   ],
   "source": [
    "for i in session.query(Staff):\n",
    "    print(i)"
   ]
  },
  {
   "cell_type": "code",
   "execution_count": 5,
   "metadata": {},
   "outputs": [],
   "source": [
    "session.close()"
   ]
  },
  {
   "cell_type": "code",
   "execution_count": null,
   "metadata": {},
   "outputs": [],
   "source": []
  }
 ],
 "metadata": {
  "kernelspec": {
   "display_name": "Python 3",
   "language": "python",
   "name": "python3"
  },
  "language_info": {
   "codemirror_mode": {
    "name": "ipython",
    "version": 3
   },
   "file_extension": ".py",
   "mimetype": "text/x-python",
   "name": "python",
   "nbconvert_exporter": "python",
   "pygments_lexer": "ipython3",
   "version": "3.7.0"
  }
 },
 "nbformat": 4,
 "nbformat_minor": 4
}
