{
 "cells": [
  {
   "cell_type": "code",
   "execution_count": 30,
   "metadata": {},
   "outputs": [
    {
     "data": {
      "text/plain": [
       "'| ID  |  Name | DeptId| Age | Gender | Salary |\\n| --- |  ---  |  ---  | --- |  ---   | ------ |\\n| 001 | Jay   | 001   | 50  |   M    | 56000  |\\n| 002 | Jenny | 001   | 30  |   F    | 47000  |\\n| 003 | Rick  | 002   | 45  |   M    | 50000  |\\n| 004 | David | 003   | 47  |   M    | 45000  |\\n| 005 | Jake  | 002   | 32  |   M    | 55000  |\\n| 006 | Abby  | 001   | 25  |   F    | 40000  |\\n| 007 | Trump | 003   | 80  |   M    | 90000  |\\n| 008 | Eric  | 001   | 26  |   M    | 85000  |\\n\\n'"
      ]
     },
     "execution_count": 30,
     "metadata": {},
     "output_type": "execute_result"
    }
   ],
   "source": [
    "with open('u05_data.txt', 'r', encoding='utf-8') as d:\n",
    "    jstr = d.read()\n",
    "jstr"
   ]
  },
  {
   "cell_type": "code",
   "execution_count": 31,
   "metadata": {},
   "outputs": [
    {
     "name": "stdout",
     "output_type": "stream",
     "text": [
      "|ID|Name|DeptId|Age|Gender|Salary|\n",
      "|---|---|---|---|---|------|\n",
      "|001|Jay|001|50|M|56000|\n",
      "|002|Jenny|001|30|F|47000|\n",
      "|003|Rick|002|45|M|50000|\n",
      "|004|David|003|47|M|45000|\n",
      "|005|Jake|002|32|M|55000|\n",
      "|006|Abby|001|25|F|40000|\n",
      "|007|Trump|003|80|M|90000|\n",
      "|008|Eric|001|26|M|85000|\n",
      "\n",
      "\n"
     ]
    }
   ],
   "source": [
    "jstr = jstr.replace(' ','')\n",
    "print(jstr)"
   ]
  },
  {
   "cell_type": "code",
   "execution_count": 32,
   "metadata": {},
   "outputs": [],
   "source": [
    "data_str = jstr.split('\\n')"
   ]
  },
  {
   "cell_type": "code",
   "execution_count": 33,
   "metadata": {},
   "outputs": [
    {
     "name": "stdout",
     "output_type": "stream",
     "text": [
      "['|ID|Name|DeptId|Age|Gender|Salary|', '|---|---|---|---|---|------|', '|001|Jay|001|50|M|56000|', '|002|Jenny|001|30|F|47000|', '|003|Rick|002|45|M|50000|', '|004|David|003|47|M|45000|', '|005|Jake|002|32|M|55000|', '|006|Abby|001|25|F|40000|', '|007|Trump|003|80|M|90000|', '|008|Eric|001|26|M|85000|', '', '']\n"
     ]
    }
   ],
   "source": [
    "print(data_str)"
   ]
  },
  {
   "cell_type": "code",
   "execution_count": 34,
   "metadata": {},
   "outputs": [
    {
     "data": {
      "text/plain": [
       "['|001|Jay|001|50|M|56000|',\n",
       " '|002|Jenny|001|30|F|47000|',\n",
       " '|003|Rick|002|45|M|50000|',\n",
       " '|004|David|003|47|M|45000|',\n",
       " '|005|Jake|002|32|M|55000|',\n",
       " '|006|Abby|001|25|F|40000|',\n",
       " '|007|Trump|003|80|M|90000|',\n",
       " '|008|Eric|001|26|M|85000|']"
      ]
     },
     "execution_count": 34,
     "metadata": {},
     "output_type": "execute_result"
    }
   ],
   "source": [
    "data2_str = data_str[2:-2]\n",
    "data2_str"
   ]
  },
  {
   "cell_type": "code",
   "execution_count": 35,
   "metadata": {},
   "outputs": [
    {
     "data": {
      "text/plain": [
       "[['001', 'Jay', '001', '50', 'M', '56000'],\n",
       " ['002', 'Jenny', '001', '30', 'F', '47000'],\n",
       " ['003', 'Rick', '002', '45', 'M', '50000'],\n",
       " ['004', 'David', '003', '47', 'M', '45000'],\n",
       " ['005', 'Jake', '002', '32', 'M', '55000'],\n",
       " ['006', 'Abby', '001', '25', 'F', '40000'],\n",
       " ['007', 'Trump', '003', '80', 'M', '90000'],\n",
       " ['008', 'Eric', '001', '26', 'M', '85000']]"
      ]
     },
     "execution_count": 35,
     "metadata": {},
     "output_type": "execute_result"
    }
   ],
   "source": [
    "data2_str = [r.split('|')[1:-1] for r in data2_str]\n",
    "data2_str"
   ]
  },
  {
   "cell_type": "code",
   "execution_count": 36,
   "metadata": {},
   "outputs": [
    {
     "data": {
      "text/plain": [
       "['ID', 'Name', 'DeptId', 'Age', 'Gender', 'Salary']"
      ]
     },
     "execution_count": 36,
     "metadata": {},
     "output_type": "execute_result"
    }
   ],
   "source": [
    "data3_str = data_str[0][1:-1].split('|')\n",
    "data3_str"
   ]
  },
  {
   "cell_type": "code",
   "execution_count": 37,
   "metadata": {},
   "outputs": [],
   "source": [
    "data_json = {staff[0]: {data3_str[col]: d for col, d in enumerate(staff)} for staff in data2_str}"
   ]
  },
  {
   "cell_type": "code",
   "execution_count": 44,
   "metadata": {},
   "outputs": [
    {
     "name": "stdout",
     "output_type": "stream",
     "text": [
      "{\"001\": {\"ID\": \"001\", \"Name\": \"Jay\", \"DeptId\": \"001\", \"Age\": \"50\", \"Gender\": \"M\", \"Salary\": \"56000\"}, \"002\": {\"ID\": \"002\", \"Name\": \"Jenny\", \"DeptId\": \"001\", \"Age\": \"30\", \"Gender\": \"F\", \"Salary\": \"47000\"}, \"003\": {\"ID\": \"003\", \"Name\": \"Rick\", \"DeptId\": \"002\", \"Age\": \"45\", \"Gender\": \"M\", \"Salary\": \"50000\"}, \"004\": {\"ID\": \"004\", \"Name\": \"David\", \"DeptId\": \"003\", \"Age\": \"47\", \"Gender\": \"M\", \"Salary\": \"45000\"}, \"005\": {\"ID\": \"005\", \"Name\": \"Jake\", \"DeptId\": \"002\", \"Age\": \"32\", \"Gender\": \"M\", \"Salary\": \"55000\"}, \"006\": {\"ID\": \"006\", \"Name\": \"Abby\", \"DeptId\": \"001\", \"Age\": \"25\", \"Gender\": \"F\", \"Salary\": \"40000\"}, \"007\": {\"ID\": \"007\", \"Name\": \"Trump\", \"DeptId\": \"003\", \"Age\": \"80\", \"Gender\": \"M\", \"Salary\": \"90000\"}, \"008\": {\"ID\": \"008\", \"Name\": \"Eric\", \"DeptId\": \"001\", \"Age\": \"26\", \"Gender\": \"M\", \"Salary\": \"85000\"}}\n"
     ]
    }
   ],
   "source": [
    "print(str(data_json).replace('\\'','\\\"'))"
   ]
  },
  {
   "cell_type": "code",
   "execution_count": null,
   "metadata": {},
   "outputs": [],
   "source": []
  }
 ],
 "metadata": {
  "kernelspec": {
   "display_name": "Python 3",
   "language": "python",
   "name": "python3"
  },
  "language_info": {
   "codemirror_mode": {
    "name": "ipython",
    "version": 3
   },
   "file_extension": ".py",
   "mimetype": "text/x-python",
   "name": "python",
   "nbconvert_exporter": "python",
   "pygments_lexer": "ipython3",
   "version": "3.7.4"
  }
 },
 "nbformat": 4,
 "nbformat_minor": 4
}
