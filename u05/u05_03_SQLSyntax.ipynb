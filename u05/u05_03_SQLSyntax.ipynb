{
 "cells": [
  {
   "cell_type": "code",
   "execution_count": 12,
   "metadata": {},
   "outputs": [
    {
     "name": "stdout",
     "output_type": "stream",
     "text": [
      "Successfully connected!\n"
     ]
    }
   ],
   "source": [
    "import pymysql\n",
    "\n",
    "\n",
    "host = 'localhost'\n",
    "port = 3306\n",
    "user = 'root'\n",
    "passwd = '27DORAhero27'\n",
    "db = 'TESTDB'\n",
    "charset = 'utf8mb4'\n",
    "conn = pymysql.connect(host=host,\n",
    "                       port=port,\n",
    "                       user=user,\n",
    "                       passwd=passwd, \n",
    "                       db=db, \n",
    "                       charset=charset)\n",
    "print('Successfully connected!')\n",
    "\n",
    "cursor = conn.cursor()"
   ]
  },
  {
   "cell_type": "code",
   "execution_count": 2,
   "metadata": {
    "scrolled": true
   },
   "outputs": [
    {
     "data": {
      "text/plain": [
       "1"
      ]
     },
     "execution_count": 2,
     "metadata": {},
     "output_type": "execute_result"
    }
   ],
   "source": [
    "# 試著 INSERT 一筆資料\n",
    "# 注意 TABLE 欄位的資料型態\n",
    "\n",
    "# 先寫好 SQL 語法\n",
    "sql = \"\"\"\n",
    "INSERT INTO Staff (ID, Name, DeptId, Age, Gender, Salary, recordDt)\n",
    "VALUES ('001', 'Jay', '001', 50, 'M', 56000, '2020-04-24 14:59:57');\n",
    "\"\"\"\n",
    "\n",
    "cursor.execute(sql)"
   ]
  },
  {
   "cell_type": "code",
   "execution_count": 3,
   "metadata": {},
   "outputs": [],
   "source": [
    "\n",
    "# 因 pymysql 預設不會自動 commit，故要記得 commit\n",
    "conn.commit()"
   ]
  },
  {
   "cell_type": "code",
   "execution_count": 7,
   "metadata": {},
   "outputs": [
    {
     "data": {
      "text/plain": [
       "1"
      ]
     },
     "execution_count": 7,
     "metadata": {},
     "output_type": "execute_result"
    }
   ],
   "source": [
    "\n",
    "# 產生時間的方式如下\n",
    "import time\n",
    "t = time.localtime()\n",
    "dt = time.strftime('%Y-%m-%d %H:%M:%S', t)\n",
    "\n",
    "# 試著再 INSERT 一筆資料\n",
    "sql = \"\"\"\n",
    "INSERT INTO Staff (ID, Name, DeptId, Age, Gender, Salary, recordDt)\n",
    "VALUES ('002', 'Jenny', '001', 30, 'F', 47000, '{}');\n",
    "\"\"\".format(dt)\n",
    "\n",
    "# 將指令放進 cursor 物件，並執行\n",
    "cursor.execute(sql)"
   ]
  },
  {
   "cell_type": "code",
   "execution_count": 8,
   "metadata": {},
   "outputs": [
    {
     "data": {
      "text/plain": [
       "'2020-05-16 11:09:45'"
      ]
     },
     "execution_count": 8,
     "metadata": {},
     "output_type": "execute_result"
    }
   ],
   "source": [
    "dt"
   ]
  },
  {
   "cell_type": "code",
   "execution_count": 9,
   "metadata": {},
   "outputs": [],
   "source": [
    "# 因 pymysql 預設不會自動 commit，故要記得 commit\n",
    "conn.commit()"
   ]
  },
  {
   "cell_type": "code",
   "execution_count": 21,
   "metadata": {},
   "outputs": [
    {
     "data": {
      "text/plain": [
       "2"
      ]
     },
     "execution_count": 21,
     "metadata": {},
     "output_type": "execute_result"
    }
   ],
   "source": [
    "sql = 'SELECT * FROM Staff;'\n",
    "cursor.execute(sql)"
   ]
  },
  {
   "cell_type": "code",
   "execution_count": 22,
   "metadata": {},
   "outputs": [],
   "source": [
    "data = cursor.fetchall()"
   ]
  },
  {
   "cell_type": "code",
   "execution_count": 23,
   "metadata": {},
   "outputs": [
    {
     "data": {
      "text/plain": [
       "(('001',\n",
       "  'Jay',\n",
       "  '001',\n",
       "  50,\n",
       "  'M',\n",
       "  56000,\n",
       "  datetime.datetime(2020, 4, 24, 14, 59, 57)),\n",
       " ('002',\n",
       "  'Jenny',\n",
       "  '001',\n",
       "  30,\n",
       "  'F',\n",
       "  47000,\n",
       "  datetime.datetime(2020, 5, 16, 11, 9, 45)))"
      ]
     },
     "execution_count": 23,
     "metadata": {},
     "output_type": "execute_result"
    }
   ],
   "source": [
    "data"
   ]
  },
  {
   "cell_type": "code",
   "execution_count": 24,
   "metadata": {},
   "outputs": [
    {
     "data": {
      "text/plain": [
       "'2020-05-16 11:09:45'"
      ]
     },
     "execution_count": 24,
     "metadata": {},
     "output_type": "execute_result"
    }
   ],
   "source": [
    "# 從資料庫將 datetime 型態資料取出後, 在 Python 中會變成 datetime 物件\n",
    "# 將 datetime 物件轉為字串\n",
    "data[1][6].strftime('%Y-%m-%d %H:%M:%S')"
   ]
  },
  {
   "cell_type": "code",
   "execution_count": 25,
   "metadata": {},
   "outputs": [],
   "source": [
    "\n",
    "# 關閉連線\n",
    "cursor.close()\n",
    "conn.close()"
   ]
  },
  {
   "cell_type": "code",
   "execution_count": null,
   "metadata": {},
   "outputs": [],
   "source": []
  }
 ],
 "metadata": {
  "kernelspec": {
   "display_name": "Python 3",
   "language": "python",
   "name": "python3"
  },
  "language_info": {
   "codemirror_mode": {
    "name": "ipython",
    "version": 3
   },
   "file_extension": ".py",
   "mimetype": "text/x-python",
   "name": "python",
   "nbconvert_exporter": "python",
   "pygments_lexer": "ipython3",
   "version": "3.7.4"
  }
 },
 "nbformat": 4,
 "nbformat_minor": 4
}
