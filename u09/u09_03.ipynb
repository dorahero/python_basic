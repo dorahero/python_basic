{
 "cells": [
  {
   "cell_type": "code",
   "execution_count": 14,
   "metadata": {},
   "outputs": [],
   "source": [
    "import sqlite3"
   ]
  },
  {
   "cell_type": "code",
   "execution_count": 15,
   "metadata": {},
   "outputs": [],
   "source": [
    "# Connect to sqlite file\n",
    "conn = sqlite3.connect('test.db')"
   ]
  },
  {
   "cell_type": "code",
   "execution_count": 16,
   "metadata": {},
   "outputs": [
    {
     "data": {
      "text/plain": [
       "<sqlite3.Cursor at 0x5b3c760>"
      ]
     },
     "execution_count": 16,
     "metadata": {},
     "output_type": "execute_result"
    }
   ],
   "source": [
    "# Execute SQL syntax\n",
    "conn.execute(\"\"\"CREATE TABLE IF NOT EXISTS `Staff` (\n",
    "  `ID` VARCHAR(10) NOT NULL,\n",
    "  `Name` VARCHAR(45) NOT NULL,\n",
    "  `DeptId` VARCHAR(10) NOT NULL,\n",
    "  `Age` INT NULL,\n",
    "  `Gender` VARCHAR(3) NULL,\n",
    "  `Salary` INT NULL,\n",
    "  `recordDt` DATETIME NOT NULL,\n",
    "  PRIMARY KEY (`ID`));\"\"\")"
   ]
  },
  {
   "cell_type": "code",
   "execution_count": 17,
   "metadata": {},
   "outputs": [],
   "source": [
    "sql = \"\"\"\n",
    "INSERT INTO Staff (ID, Name, DeptId, Age, Gender, Salary, recordDt)\n",
    "VALUES ('001', 'Jay', '001', 50, 'M', 56000, '2020-04-24 14:59:57');\n",
    "\"\"\"\n",
    "conn.execute(sql)\n",
    "conn.commit()"
   ]
  },
  {
   "cell_type": "code",
   "execution_count": 18,
   "metadata": {},
   "outputs": [
    {
     "name": "stdout",
     "output_type": "stream",
     "text": [
      "('001', 'Jay', '001', 50, 'M', 56000, '2020-04-24 14:59:57')\n"
     ]
    }
   ],
   "source": [
    "# Get query data\n",
    "for row in conn.execute(\"\"\"SELECT * FROM Staff;\"\"\"):\n",
    "    print(row)\n"
   ]
  },
  {
   "cell_type": "code",
   "execution_count": 19,
   "metadata": {},
   "outputs": [],
   "source": [
    "sql = \"\"\"\n",
    "DELETE FROM Staff;\n",
    "\"\"\"\n",
    "conn.execute(sql)\n",
    "conn.commit()"
   ]
  },
  {
   "cell_type": "code",
   "execution_count": 20,
   "metadata": {},
   "outputs": [],
   "source": [
    "sql = \"\"\"\n",
    "INSERT INTO Staff (ID, Name, DeptId, Age, Gender, Salary, recordDt)\n",
    "VALUES ('001', 'Jay', '001', 50, 'M', 56000, '2020-04-24 14:59:57');\n",
    "\"\"\"\n",
    "conn.execute(sql)\n",
    "conn.commit()"
   ]
  },
  {
   "cell_type": "code",
   "execution_count": 21,
   "metadata": {},
   "outputs": [],
   "source": [
    "\n",
    "# Close connection\n",
    "conn.close()"
   ]
  },
  {
   "cell_type": "code",
   "execution_count": null,
   "metadata": {},
   "outputs": [],
   "source": []
  }
 ],
 "metadata": {
  "kernelspec": {
   "display_name": "Python 3",
   "language": "python",
   "name": "python3"
  },
  "language_info": {
   "codemirror_mode": {
    "name": "ipython",
    "version": 3
   },
   "file_extension": ".py",
   "mimetype": "text/x-python",
   "name": "python",
   "nbconvert_exporter": "python",
   "pygments_lexer": "ipython3",
   "version": "3.7.4"
  }
 },
 "nbformat": 4,
 "nbformat_minor": 4
}
